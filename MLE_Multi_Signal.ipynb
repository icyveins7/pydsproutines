{
 "cells": [
  {
   "cell_type": "markdown",
   "id": "1e0996c4",
   "metadata": {},
   "source": [
    "# Maximum Likelihood Estimation of Multiple Signals\n",
    "\n",
    "Here we attempt to outline a computationally simple and efficient way to obtain the MLE of multiple signals. The parameters to estimate are the standard 4 per signal: $\\tau_i, f_i, A_i, \\phi_i$, which are TOA, FOA, amplitude and global phase respectively. Alternatively, we may treat the signal as having a complex amplitude $\\alpha_i$ with real and imaginary parts, such that the parameters are $\\tau_i, f_i, Re(\\alpha_i), Im(\\alpha_i)$.\n",
    "\n",
    "## Signal Model\n",
    "\n",
    "Assume we have received multiple copies of the same, known signal $s(t)$ with different sets of the above 4 parameters i.e.\n",
    "\n",
    "\\begin{equation}\n",
    "r(t) = \\sum_i A_i s(t-\\tau_i) e^{i 2 \\pi f_i t} e^{i\\phi_i}\n",
    "\\end{equation}\n",
    "\n",
    "Notably, the $\\tau_i$ dependence in the exponential term can be moved out into the global phase term $\\phi_i$. We are concerned with the scenario where either or both $\\tau_i$ and $f_i$ are close together such that they cannot be resolved in a typical single matched filter with $s(t)$.\n",
    "\n",
    "## The 2 Signal Scenario\n",
    "\n",
    "We may treat the earliest (in time) signal to have zero TOA and assume a new amalgamated signal $x(t)$ as the combination with the later signal, with its parameters adjusted relative to it. That is, $\\tau_0 < \\tau_1$ without loss of generality, and then reduce the signal model to \n",
    "\n",
    "\\begin{equation}\n",
    "x(t) = s(t) + \\frac{A_1}{A_0}s(t-(\\tau_1 - \\tau_0)) e^{i 2 \\pi (f_1 - f_0) t} e^{i (\\phi_1 - \\phi_0)}\n",
    "\\end{equation}\n",
    "\n",
    "and\n",
    "\n",
    "\\begin{equation}\n",
    "r(t) = A_0 e^{i\\phi_0} e^{i 2 \\pi f_0 t} x(t - \\tau_0)\n",
    "\\end{equation}\n",
    "\n",
    "The reader may wish to check if this is correct (seriously, go check it).\n",
    "\n",
    "## Search Over Multiple Matched Filters\n",
    "\n",
    "It is possible now to define the new template's parameters as the true unknowns, and the outer parameters (originally the $s_0$ parameters) as the nuisance parameters. Then we simply iterate over a small range of values for the template defined as\n",
    "\n",
    "\\begin{equation}\n",
    "x(t) = s(t) + As(t-\\tau) e^{i 2 \\pi f t} e^{i \\phi}\n",
    "\\end{equation}\n",
    "\n",
    "solving for the set of unknowns $A,\\tau,f,\\phi$ by maximising the SNR of $x(t)$ through a matched filter.\n",
    "\n",
    "### Practical Concerns\n",
    "\n",
    "It is important to characterise the degree to which the lower amplitude signal may be observed. In practice, it may be prudent to ignore differences of around 20 or 30 dB, since it may be impossible to distinguish the lower amplitude signal from noise. This of course depends on the situation; characterise it yourself!\n",
    "\n",
    "### Ideas\n",
    "\n",
    "In the iteration over the 4 parameters, it may be more useful to perform the standard matched filter over time and frequency, and then possibly perform a gradient descent over the complex amplitude $A$. This is yet to be investigated.\n"
   ]
  }
 ],
 "metadata": {
  "kernelspec": {
   "display_name": "Python 3 (ipykernel)",
   "language": "python",
   "name": "python3"
  },
  "language_info": {
   "codemirror_mode": {
    "name": "ipython",
    "version": 3
   },
   "file_extension": ".py",
   "mimetype": "text/x-python",
   "name": "python",
   "nbconvert_exporter": "python",
   "pygments_lexer": "ipython3",
   "version": "3.8.10"
  }
 },
 "nbformat": 4,
 "nbformat_minor": 5
}
