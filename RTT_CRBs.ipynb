{
 "cells": [
  {
   "cell_type": "markdown",
   "id": "507adc8c",
   "metadata": {},
   "source": [
    "# A Primer on RTT Localization CRBs\n",
    "\n",
    "With reference to standard TDOAs, one may choose to localize via return trip timings (RTTs). This is **not** the same as ranging (at least not exactly) as is used in standard GPS systems, but instead involves at least a single 'bounce'. Here we will derive the CRB for this specific single bounce scenario, although multiple bounces should be easily extended from this example.\n",
    "\n",
    "## Measurement of Range\n",
    "\n",
    "In the single bounce scenario, the signal travels from the emitter (here denoted as $E$) and reaches the unknown *reflector* (here denoted as $X$), then to the receiver/sensor (here denoted as $S$). As such the ranging measurement (after conversions from RTT) is as follows:\n",
    "\n",
    "$$\n",
    "r = |X - S| + |X - E|\n",
    "$$\n",
    "\n",
    "where the above variables are all vectors representing the respective positions. Here we have not assumed that the emitter is the same as the receiver/sensor.\n",
    "\n",
    "Note that the form of this is very similar to the TDOA range measurement:\n",
    "\n",
    "$$\n",
    "r = |X - S_2| - |X - S_1|\n",
    "$$\n",
    "\n",
    "where the two $s_i$ represent the pair of sensors/receivers. Hence it is likely that the final form can be worked out in almost identical way.\n",
    "\n"
   ]
  },
  {
   "cell_type": "markdown",
   "id": "72e68834",
   "metadata": {},
   "source": [
    "## Differentials of Range\n",
    "\n",
    "In order to calculate the CRB, we need to differentiate the range with respect to the spatial dimensions. \n",
    "\n",
    "It is easier to see how to perform the differentiation if the explicit components are written out:\n",
    "\n",
    "\\begin{align}\n",
    "r &= \\left( (x-S_x)^2 + (y-S_y)^2 + (z-S_z)^2 \\right)^{1/2} + \\left( (x-E_x)^2 + (y-E_y)^2 + (z-E_z)^2 \\right)^{1/2} \\\\\n",
    "&= \\mu + \\nu\n",
    "\\end{align}\n",
    "\n",
    "Differentiating each part $\\mu$ and $\\nu$, we obtain\n",
    "\n",
    "$$\n",
    "\\frac{\\partial \\mu}{\\partial x_i} = \\frac{X_i - S_i}{\\mu}\n",
    "$$\n",
    "\n",
    "$$\n",
    "\\frac{\\partial \\nu}{\\partial x_i} = \\frac{X_i - E_i}{\\nu}\n",
    "$$\n",
    "\n",
    "where $i \\in \\{0,1,2\\}$, corresponding to the $x,y,z$ components.\n",
    "\n",
    "Then\n",
    "\n",
    "\\begin{align}\n",
    "\\frac{\\partial r}{\\partial x_i} &= \\frac{\\partial \\mu}{\\partial x_i} + \\frac{\\partial \\nu}{\\partial x_i} \\\\\n",
    "&= \\frac{X_i - S_i}{\\mu} + \\frac{X_i - E_i}{\\nu}\n",
    "\\end{align}\n",
    "\n",
    "Note that the convention of $|X-S|$ or $|S-X|$ does not matter; the reader is welcome to confirm this.\n",
    "\n",
    "At this point, the CRB derivation follows the TDOA one, with each of these terms adding to our 'measurement list'. Explicitly, we define the matrix\n",
    "\n",
    "\\begin{equation}\n",
    "R = \\begin{bmatrix}\n",
    "\\frac{X_x - S^{(0)}_x}{\\mu^{(0)}} + \\frac{X_x - E_x}{\\nu} & \\frac{X_x - S^{(1)}_x}{\\mu^{(1)}} + \\frac{X_x - E_x}{\\nu} & ...\\\\\n",
    "\\frac{X_y - S^{(0)}_y}{\\mu^{(0)}} + \\frac{X_y - E_y}{\\nu} & \\frac{X_y - S^{(1)}_y}{\\mu^{(1)}} + \\frac{X_y - E_y}{\\nu} & ...\\\\\n",
    "\\frac{X_z - S^{(0)}_z}{\\mu^{(0)}} + \\frac{X_z - E_z}{\\nu} & \\frac{X_z - S^{(1)}_z}{\\mu^{(1)}} + \\frac{X_z - E_z}{\\nu} & ...\\\\\n",
    "\\end{bmatrix}\n",
    "\\end{equation}\n",
    "\n",
    "where the superscript represents the *measurement index*, so there for $N$ measurements the matrix R should have $N$ columns. Here we have assumed a stationary emitter, and as such there is no dependence on the measurement index for $E$, but the general form of the equation is evidently unchanged even if the emitter is moving.\n",
    "\n",
    "Then the Fisher Information Matrix is defined by\n",
    "\n",
    "\\begin{equation}\n",
    "F = R \\sigma R^T\n",
    "\\end{equation}\n",
    "\n",
    "with $\\sigma$ representing the error matrix of the measurements."
   ]
  },
  {
   "cell_type": "markdown",
   "id": "ddb903b6",
   "metadata": {},
   "source": [
    "## Accounting for Processing Delays\n",
    "\n",
    "In any scenario other than a simple reflector or re-broadcaster, there is likely to be some form of processing delay between the receipt of the original signal and the transmission to the final receiver. Hence, the actual form of the range measurement would likely be\n",
    "\n",
    "\\begin{equation}\n",
    "r = |X - S| + |X - E| + \\epsilon\n",
    "\\end{equation}\n",
    "\n",
    "where $\\epsilon$ is some constant representing the delay. Note that the form of this equation allows us to assume that it encompasses all forms of constant (non-time-dependent) delays. We may also assume that the processing delay is not exactly constant, but rather normally-distributed around some mean i.e. $\\epsilon \\rightarrow N(\\epsilon, \\sigma_\\epsilon)$.\n",
    "\n",
    "We would like to consider the case where the value $\\epsilon$ is unknown; any known value should be a statistical error and can be easily removed. Heuristically, it should be possible to at least detect the presence of the unknown $\\epsilon$ by taking measurements at different *geometries*. In particular, it should require at least 3 measurements to expose this mismatch in the model.\n",
    "\n",
    "Let's consider a simple example with our reflector at $(0,0,0)$, and our TX/RX at 4 corners of a square."
   ]
  },
  {
   "cell_type": "code",
   "execution_count": 2,
   "id": "3fa77b40",
   "metadata": {},
   "outputs": [
    {
     "name": "stdout",
     "output_type": "stream",
     "text": [
      "Grid search took 0.478662 seconds.\n"
     ]
    },
    {
     "data": {
      "text/plain": [
       "<matplotlib.image.AxesImage at 0x7fa274b76850>"
      ]
     },
     "execution_count": 2,
     "metadata": {},
     "output_type": "execute_result"
    },
    {
     "data": {
      "image/png": "[encoded data removed]",
      "text/plain": [
       "<Figure size 432x288 with 1 Axes>"
      ]
     },
     "metadata": {
      "needs_background": "light"
     },
     "output_type": "display_data"
    }
   ],
   "source": [
    "from plotRoutines import *\n",
    "from localizationRoutines import *\n",
    "import numpy as np\n",
    "\n",
    "x = np.array([0,0,0]) # Reflector at centre\n",
    "t = np.array([-10e3, 10e3, 0]) # Transmitter at top left\n",
    "r = np.array([[-10e3, -10e3, 0], # Receivers at 3 measurements on other 3 corners\n",
    "              [10e3, -10e3, 0],\n",
    "              [10e3, 10e3, 0]])\n",
    "\n",
    "# Define some errors\n",
    "toa_sigma_list = np.zeros(r.shape[0]) + 1e-3\n",
    "\n",
    "# Calculate the measurements\n",
    "toa_list = np.linalg.norm(r - x, axis=1) + np.linalg.norm(t - x)\n",
    "\n",
    "# Make a grid\n",
    "gridside = 20e3\n",
    "gridx = np.arange(-10e3, -10e3 + gridside, 10)\n",
    "gridy = np.arange(-10e3, -10e3 + gridside, 10)\n",
    "meshx, meshy = np.meshgrid(gridx, gridy)\n",
    "grid_list = np.vstack((meshx.flatten(),meshy.flatten(),np.zeros(meshx.size))).T # Reshape into rows of points\n",
    "\n",
    "# Perform the localization\n",
    "cost_grid = gridSearchRTT(t, r, toa_list, toa_sigma_list, grid_list, verb=True)\n",
    "\n",
    "# Plot\n",
    "plt.figure()\n",
    "plt.imshow(np.exp(-cost_grid.reshape(meshx.shape)))\n",
    "# pgPlotHeatmap(np.exp(-cost_grid.reshape(meshx.shape)), gridx[0], gridy[0], gridside, gridside)\n"
   ]
  },
  {
   "cell_type": "code",
   "execution_count": null,
   "id": "e96e21e7",
   "metadata": {},
   "outputs": [],
   "source": []
  }
 ],
 "metadata": {
  "kernelspec": {
   "display_name": "Python 3 (ipykernel)",
   "language": "python",
   "name": "python3"
  },
  "language_info": {
   "codemirror_mode": {
    "name": "ipython",
    "version": 3
   },
   "file_extension": ".py",
   "mimetype": "text/x-python",
   "name": "python",
   "nbconvert_exporter": "python",
   "pygments_lexer": "ipython3",
   "version": "3.8.10"
  }
 },
 "nbformat": 4,
 "nbformat_minor": 5
}
