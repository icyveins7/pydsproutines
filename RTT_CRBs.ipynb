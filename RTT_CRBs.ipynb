{
 "cells": [
  {
   "cell_type": "markdown",
   "id": "507adc8c",
   "metadata": {},
   "source": [
    "# A Primer on RTT Localization CRBs\n",
    "\n",
    "With reference to standard TDOAs, one may choose to localize via return trip timings (RTTs). This is **not** the same as ranging (at least not exactly) as is used in standard GPS systems, but instead involves at least a single 'bounce'. Here we will derive the CRB for this specific single bounce scenario, although multiple bounces should be easily extended from this example.\n",
    "\n",
    "## Measurement of Range\n",
    "\n",
    "In the single bounce scenario, the signal travels from the emitter (here denoted as $z$) and reaches the unknown *reflector* (here denoted as $x$), then to the receiver/sensor (here denoted as $s$). As such the ranging measurement (after conversions from RTT) is as follows:\n",
    "\n",
    "$$\n",
    "r = |x - s| + |x - z|\n",
    "$$\n",
    "\n",
    "where the above variables are all vectors representing the respective positions. Here we have not assumed that the emitter is the same as the receiver/sensor.\n",
    "\n",
    "Note that the form of this is very similar to the TDOA range measurement:\n",
    "\n",
    "$$\n",
    "r = |x - s_2| - |x - s_1|\n",
    "$$\n",
    "\n",
    "where the two $s_i$ represent the pair of sensors/receivers. Hence it is likely that the final form can be worked out in almost identical way.\n",
    "\n"
   ]
  },
  {
   "cell_type": "markdown",
   "id": "72e68834",
   "metadata": {},
   "source": [
    "## Differentials of Range\n",
    "\n",
    "In order to calculate the CRB, we need to differentiate the range with respect to the spatial dimensions. \n",
    "\n",
    "It is easier to see how to perform the differentiation if the explicit components are written out:\n",
    "\n",
    "\\begin{align}\n",
    "r &= \\left( (x-s_x)^2 + (y-s_y)^2 + (z-s_z)^2 \\right)^{1/2} + \\left( (x-z_x)^2 + (y-z_y)^2 + (z-z_z)^2 \\right)^{1/2}\n",
    "\\end{align}\n",
    "\n",
    "The working for this is presented here:\n",
    "\n",
    "\\begin{align}\n",
    "\\frac{\\partial r}{\\partial x_i} &= \\frac{1}{2}r^{-1} \\left( 2(x_i - s_i) + 2 (x_i - z_i) \\right) \\\\\n",
    "&= \\frac{x_i - s_i + x_i - z_i}{r}\n",
    "\\end{align}"
   ]
  }
 ],
 "metadata": {
  "kernelspec": {
   "display_name": "Python 3 (ipykernel)",
   "language": "python",
   "name": "python3"
  },
  "language_info": {
   "codemirror_mode": {
    "name": "ipython",
    "version": 3
   },
   "file_extension": ".py",
   "mimetype": "text/x-python",
   "name": "python",
   "nbconvert_exporter": "python",
   "pygments_lexer": "ipython3",
   "version": "3.8.10"
  }
 },
 "nbformat": 4,
 "nbformat_minor": 5
}
