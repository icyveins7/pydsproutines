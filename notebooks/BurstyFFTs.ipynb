{
 "cells": [
  {
   "cell_type": "code",
   "execution_count": 1,
   "id": "following-drain",
   "metadata": {},
   "outputs": [],
   "source": [
    "import numpy as np\n",
    "import scipy as sp\n",
    "import matplotlib.pyplot as plt\n",
    "from signalCreationRoutines import *\n",
    "import time\n",
    "from burstyRoutines import *\n",
    "import numpy.testing as npt"
   ]
  },
  {
   "cell_type": "markdown",
   "id": "removed-impact",
   "metadata": {},
   "source": [
    "# Theory\n",
    "\n",
    "We seek to find the FFT of a bursty signal that begins at times $x(t_0), x(t_1) ...$ and lasts for $t_L$ seconds.\n",
    "The most obvious way to perform this is to capture all the bursts in one window and perform a single FFT.\n",
    "However, this can be very inefficient if the gap between each burst is very large i.e. $t_0 + t_L << t_1, t_1 + t_L << t_2 ...$. In such a scenario, zeroing out the empty space between each burst is commonplace and will result in the FFT being needlessly computed over all the '0' samples.\n",
    "\n",
    "Instead, we would like to perform the FFT over each short burst and then combine them such that the result for a particular bin would be the same as if the FFT had been taken over all the bursts together.\n",
    "\n",
    "To do this, consider the standard form of the FFT:\n",
    "\n",
    "$$X(k) = \\sum^{N-1}_{n} x(n) e^{-i 2 \\pi k n / N}, k = 0, 1, ... N-1 $$\n",
    "\n",
    "Now, before considering the bursts, instead break this large FFT into a bunch of smaller FFTs of length L. In practice this length would be determined by a desired bin resolution, and by zero-padding the original long window, we may define\n",
    "\n",
    "$$ N = \\alpha L$$\n",
    "\n",
    "where $\\alpha$ is an integer. This is not a new technique and is simply performing stacked FFTs in a overlap-add manner. We can see this by simply splitting the above summation into smaller summations over L terms.\n",
    "\n",
    "$$\n",
    "\\begin{aligned}\n",
    "X(k) &= \\sum^{L-1}_{n=0} x(n) e^{-i 2 \\pi k n / N} + \\sum^{2L-1}_{n=L} x(n) e^{-i 2 \\pi k n / N} + ... \\\\\n",
    "&= \\sum^{L-1}_{n=0} x(n) e^{-i 2 \\pi k n / (\\alpha L)} + \\sum^{2L-1}_{n=L} x(n) e^{-i 2 \\pi k n / (\\alpha L)} + ... \\\\\n",
    "&= \\sum^{L-1}_{n=0} x(n) e^{-i 2 \\pi k' n / L)} + \\sum^{2L-1}_{n=L} x(n) e^{-i 2 \\pi k' n / L} + ..., \\; k' = k/\\alpha \\\\\n",
    "\\end{aligned}\n",
    "$$\n",
    "\n",
    "We see that we can define $k' = 0, 1, ..., L-1$ which continues from our definition of $N=\\alpha L$. In other words, we have split the long FFT into the sum of smaller FFTs, with a corresponding loss of bin resolution of factor $\\alpha$. We can make this clearer by labelling the windows in the following way (now using $k'$ as the bin number):\n",
    "\n",
    "$$\n",
    "\\begin{aligned}\n",
    "X(k') &= \\sum^{L-1}_{n=0} x(n+0L) e^{-i 2 \\pi k' (n + 0L) / L)} + \\sum^{L-1}_{n=0} x(n+1L) e^{-i 2 \\pi k' (n+1L) / L} + ... \\\\\n",
    "&= (\\sum^{L-1}_{n=0} x(n+0L) e^{-i 2 \\pi k' n/L}) e^{-i 2\\pi k' 0} + (\\sum^{L-1}_{n=0} x(n+1L) e^{-i 2 \\pi k' n/L}) e^{-i 2\\pi k' 1} + ... \\\\\n",
    "\\end{aligned}\n",
    "$$\n",
    "\n",
    "Since we have defined $k'$ to be an integer via our assumptions, the factors $e^{-i 2\\pi k' 0}, e^{-i 2\\pi k' 1}, ...$ are all equal to 1 and drop out. Hence we see clearly that the sum of FFTs can be described succinctly as\n",
    "\n",
    "$$\n",
    "X(k') = \\sum_l \\sum^{L-1}_{n=0} x(n+lL) e^{-i 2 \\pi k' n / L}\n",
    "$$\n",
    "\n",
    "Now, in a bursty signal, depending on the length $L$ chosen, many of these windows may be full of 0s, and may be ignored in a given computation. Evidently, in a fully periodic burst, with a length $L$ chosen to match the signal's burst length, then only the bursts with the signal itself would need to be included.\n",
    "\n",
    "However, it is likely that burst's short length and associated bin resolution may not be sufficient for the desired use case. In this scenario, one would likely select a larger window and compute only those windows which contain samples from a burst. Some extra thought here offers yet another layer of optimization. Rearranging the summations, we have\n",
    "\n",
    "$$\n",
    "X(k') = \\sum^{L-1}_{n=0} \\left( \\sum_l x(n+lL) \\right) e^{-i 2 \\pi k' n / L}\n",
    "$$\n",
    "\n",
    "In other words, we can just sum over all the windows first, and then take a single FFT of that. This is the essence of the overlap-add.\n",
    "\n",
    "## Complexity\n",
    "\n",
    "A practical complexity consideration is the length of the original window with respect to the shorter length $L$. If the original window is extremely large, the inner summation (that is, the overlap-adding) will take an very long time. Otherwise, the time taken is usually dominated by the time required for the final FFT call. A good rule-of-thumb is probably $O(2*n \\log n)$, assigning and equal amount of time to the summation."
   ]
  },
  {
   "cell_type": "markdown",
   "id": "faced-poker",
   "metadata": {},
   "source": [
    "# Old Theory\n",
    "\n",
    "In practice, one would have pre-processed the bursts to at least know the samples at which each burst starts; that is, we can define the samples $n_0, n_1 ...$ as the starting samples for each burst. Similarly, we can define the length of the burst as $L$ (this can be rounded up to the nearest sample if $t_L$ sits in a subsample range.\n",
    "\n",
    "We would now perform the FFTs over each burst in the following way:\n",
    "\n",
    "$$X_i (k) = \\sum^{L-1}_{l} x(n_i + l) e^{-i 2 \\pi k l / L}, k = 0, 1, .. L-1 $$\n",
    "\n",
    "Now, clearly the FFT resolution for the short burst is far worse i.e. the bin widths are larger due to taking a smaller window. We will get to this. For now, suppose the original (large) window length is an integer multiple of the shorter window length i.e. $N = \\alpha L$.\n",
    "\n",
    "Then, every $\\alpha$'th bin in the original (large) window corresponds to a bin in the shorter window. We will use this to demonstrate the corrections required.\n",
    "\n",
    "Consider the first pair of bins which correspond to each other: this is the integer $\\alpha$ in the original (large) window and the integer $1$ in the shorter window. There is no change in the 0'th terms (which do pair up with each other) as they are simply summations over all samples, and are equivalent without any corrections.\n",
    "\n",
    "Remembering that $N = \\alpha L$, we have\n",
    "\n",
    "$$X(\\alpha) = \\sum^{N-1}_{n} x(n) e^{-i 2 \\pi \\alpha n / N}, k = 0, 1, ... N-1 $$\n",
    "$$X_i (1) = \\sum^{L-1}_{l} x(n_i + l) e^{-i 2 \\pi \\alpha l / N}, k = 0, 1, .. L-1 $$\n",
    "\n",
    "Consider the term at the start of the burst - the sample at $x(n_i + l)$. The contribution of this term to the original window is given by \n",
    "\n",
    "$$F_o = x(n_i + l) e^{-i 2 \\pi \\alpha (n_i + l) / N}$$\n",
    "\n",
    "whereas the term from the short window is given by\n",
    "\n",
    "$$F_s = x(n_i + l) e^{-i 2 \\pi \\alpha (l) / N}$$\n",
    "\n",
    "which clearly shows that \n",
    "\n",
    "$$ F_0 = F_s e^{-i 2 \\pi \\alpha (n_i) / N} $$\n",
    "\n",
    "This shows that the coefficient needed to ensure coherency between the short and long windows is the term $e^{-i 2 \\pi \\alpha (n_i) / N}$. It follows that the coefficients required for the other frequency pairs $(2\\alpha, 2), (3\\alpha, 3) ... $ are\n",
    "\n",
    "$$ e^{-i 2 \\pi 2 \\alpha (n_i) / N} $$\n",
    "$$ e^{-i 2 \\pi 3 \\alpha (n_i) / N} $$\n",
    "\n",
    "and so on.\n",
    "\n",
    "It should also be noted that these terms do not depend on $l$ whatsoever. Hence the following relations hold:\n",
    "\n",
    "$$ X(\\alpha) = ... + X_i(1) e^{-i 2 \\pi \\alpha (n_i) / N} + ... $$\n",
    "$$ X(2\\alpha) = ... + X_i(1) e^{-i 2 \\pi 2\\alpha (n_i) / N} + ... $$\n",
    "$$.$$\n",
    "$$.$$\n",
    "$$.$$\n",
    "\n",
    "In other words, to ensure coherency for a particular bin, we need only take the individual short window FFTs - the terms $X_i$ - with a complex exponential coefficient that depends on the starting sample. Looking at it through this vectorized format may be more intuitive from a programming perspective:\n",
    "\n",
    "$$\\begin{bmatrix}\n",
    "X(0) \\\\\n",
    "X(\\alpha) \\\\\n",
    "X(2 \\alpha) \\\\\n",
    "X(3 \\alpha)\\\\\n",
    ". \\\\\n",
    ". \\\\\n",
    ". \\\\\n",
    "\\end{bmatrix} = ... + \\begin{bmatrix}\n",
    "e^{-i 2 \\pi 0\\alpha (n_i) / N} \\\\\n",
    "e^{-i 2 \\pi 1\\alpha (n_i) / N} \\\\\n",
    "e^{-i 2 \\pi 2\\alpha (n_i) / N} \\\\\n",
    "e^{-i 2 \\pi 3\\alpha (n_i) / N}\\\\\n",
    ". \\\\\n",
    ". \\\\\n",
    ". \\\\\n",
    "\\end{bmatrix} \\odot \\begin{bmatrix}\n",
    "X_i(0) \\\\\n",
    "X_i(1) \\\\\n",
    "X_i(2) \\\\\n",
    "X_i(3)\\\\\n",
    ". \\\\\n",
    ". \\\\\n",
    ". \\\\\n",
    "\\end{bmatrix}\n",
    " + ... $$\n",
    "\n",
    "The $\\odot$ here represents the Hadamard product (element-wise multiplication). We see that given the FFT output of the i'th burst starting at sample $n_i$ - that is, the vector $\\begin{bmatrix}\n",
    "X_i(0) & X_i(1) & X_i(2) & X_i(3) & ...\n",
    "\\end{bmatrix}^T$ - we only need to multiply in another equal length vector with coefficients that are equal to $\\begin{bmatrix}\n",
    "e^{-i 2 \\pi 0\\alpha (n_i) / N} &\n",
    "e^{-i 2 \\pi 1\\alpha (n_i) / N} &\n",
    "e^{-i 2 \\pi 2\\alpha (n_i) / N} &\n",
    "e^{-i 2 \\pi 3\\alpha (n_i) / N} & ...\n",
    "\\end{bmatrix}^T$. Repeating this for every individual burst, one obtains coherent values for the FFT bins with respect to the original longer window.\n",
    "\n",
    "The computational advantage for this is immediately apparent for a periodic burst. For example, if a burst has a length of 0.1s and occurs every 1s (10% occupancy in time), and the original large window captures 10 bursts, then the large window requires 10s of samples (yes, this adds the final unnecessary 0s behind the last burst, but for many bursts this will be insignificant). This results in a rough computational complexity of around $O(10 \\log 10)$. On the other hand, processing 10 small FFTs will result in a complexity of around $O(10 * 0.1 \\log (0.1)) = O(\\log(0.1))$. This is clearly an immense decrease in complexity with the caveat that the resolution has also similarly decreased.\n",
    "\n",
    "## Increasing the Short Window Resolution\n",
    "\n",
    "Of course, often the resolution offered by the short burst may not be sufficient. Instead, we may wish to increase the bin resolution (decrease the bin width) by padding zeros. Assuming we pad to the periodicity of the signal, this is still likely to be a computational speed increase; in the previous example, with 0.1s bursts every 1s, this would entail taking 1s window FFTs and combining them, resulting in roughly a logarithmic reduction in complexity, $O(10 * 1 \\log (1)) < O(10 \\log 10)$.\n",
    "\n",
    "Note that in this periodic burst case, this is the *maximum* complexity that would be required, as any longer window lengths would encroach into the next burst, and thus would require some custom stitching to better optimise the choice of windows - for example, the first window might use (Burst 1 + zeros + Burst 2), second window might use (Burst 3 + zeros + Burst 4) etc.\n",
    "\n",
    "## Non-integer $\\alpha$ Windows\n",
    "\n",
    "The above scenarios considered cases where $\\alpha$ is an integer. In most cases, this is either directly true (in which case nothing else needs to be done) or can be made to be true via resampling/interpolation (for cases where the bursts and/or period may span a non-integer number of samples) or considering small extensions to the original window. \n",
    "\n",
    "We look at an example for this last scenario. Using the same example yet again of 1s-periodic, 0.1s-length bursts, consider the simple example of just 2 bursts (original window of 2s). Instead of using short window lengths of 1s or 0.1s, let's say the bin resolution desired corresponds to 0.3s. Then, clearly\n",
    "\n",
    "$$ 2 \\neq \\alpha (0.3) $$\n",
    "\n",
    "In fact, all this indicates is that some of the bins produced by the FFTs of the 0.3s windows do not correspond to any bins produced by the original 2s window. However, **this does not mean that the above methods are incorrect**; all that is required is to actually calculate these bins manually, or to pad the original window to some integer multiple length of the shorter windows (in this case, that would be $2.1s = 7 (0.3s)$).\n",
    "\n",
    "# Generation of Coefficient Vectors (IPP)\n",
    "\n",
    "The complexity analysis highly depends on the efficiency of the generation of the coefficient vector. This is likely to be negligible however, from experience. It should be noted that the coefficient vector is effectively a tone and hence can be generated efficiently in IPP using ippsTone. Rearranging the terms in the phase, we have\n",
    "\n",
    "$$\n",
    "\\begin{bmatrix}\n",
    "e^{-i 2 \\pi (\\alpha n_i / N) 0} \\\\\n",
    "e^{-i 2 \\pi (\\alpha n_i / N) 1} \\\\\n",
    "e^{-i 2 \\pi (\\alpha n_i / N) 2} \\\\\n",
    "e^{-i 2 \\pi (\\alpha n_i / N) 3}\\\\\n",
    ". \\\\\n",
    ". \\\\\n",
    ". \\\\\n",
    "e^{-i 2 \\pi u_i n'} \\\\\n",
    ".\\\\\n",
    ".\\\\\n",
    ".\\\\\n",
    "\\end{bmatrix}, n' = 0, 1, 2, 3, ... L-1\n",
    "$$\n",
    "\n",
    "and\n",
    "\n",
    "$$ u_i = \\alpha n_i / N $$\n",
    "\n",
    "which is the 'relative frequency' for the i'th burst. Note that we must now treat the original time index $n_i$ as part of the 'frequency' and the original frequency index $0, 1, 2, 3..$ as part of the 'time'."
   ]
  },
  {
   "cell_type": "code",
   "execution_count": 2,
   "id": "miniature-september",
   "metadata": {},
   "outputs": [
    {
     "data": {
      "text/plain": [
       "[<matplotlib.lines.Line2D at 0x288c1736c10>]"
      ]
     },
     "execution_count": 2,
     "metadata": {},
     "output_type": "execute_result"
    },
    {
     "data": {
      "image/png": "[encoded data removed]",
      "text/plain": [
       "<Figure size 432x288 with 1 Axes>"
      ]
     },
     "metadata": {
      "needs_background": "light"
     },
     "output_type": "display_data"
    }
   ],
   "source": [
    "# create a signal\n",
    "fs = 10000000\n",
    "reps = 10\n",
    "syms, bits = randPSKsyms(fs*reps, 4)\n",
    "\n",
    "# zero out periodically to create some 'bursts'\n",
    "burstLength = 1000\n",
    "for i in range(reps):\n",
    "    syms[i*fs + burstLength : (i+1) * fs] = 0\n",
    "    \n",
    "plt.figure()\n",
    "plt.plot(np.abs(syms))"
   ]
  },
  {
   "cell_type": "code",
   "execution_count": 3,
   "id": "gorgeous-qatar",
   "metadata": {
    "scrolled": true
   },
   "outputs": [
    {
     "name": "stdout",
     "output_type": "stream",
     "text": [
      "Took 5.315128 s for long fft.\n",
      "Took 1.363733 s for bursty fft.\n"
     ]
    },
    {
     "data": {
      "text/plain": [
       "[<matplotlib.lines.Line2D at 0x288c1e78280>]"
      ]
     },
     "execution_count": 3,
     "metadata": {},
     "output_type": "execute_result"
    },
    {
     "data": {
      "image/png": "[encoded data removed]",
      "text/plain": [
       "<Figure size 432x288 with 1 Axes>"
      ]
     },
     "metadata": {
      "needs_background": "light"
     },
     "output_type": "display_data"
    }
   ],
   "source": [
    "# form the original fft\n",
    "to = time.time()\n",
    "symsFFT = np.fft.fft(syms)\n",
    "print(\"Took %f s for long fft.\" % (time.time()-to))\n",
    "\n",
    "# form the bursty fft \n",
    "tb = time.time()\n",
    "burstyFFT = burstFFT(syms, fs)\n",
    "print(\"Took %f s for bursty fft.\" % (time.time()-tb))\n",
    "\n",
    "plt.figure()\n",
    "plt.plot(makeFreq(len(symsFFT), fs), 20*np.log10(np.abs(symsFFT)))\n",
    "plt.plot(makeFreq(len(burstyFFT), fs), 20*np.log10(np.abs(burstyFFT)), 'rx')"
   ]
  },
  {
   "cell_type": "code",
   "execution_count": 4,
   "id": "decent-conditioning",
   "metadata": {},
   "outputs": [
    {
     "data": {
      "text/plain": [
       "[<matplotlib.lines.Line2D at 0x288c1e19b50>]"
      ]
     },
     "execution_count": 4,
     "metadata": {},
     "output_type": "execute_result"
    },
    {
     "data": {
      "image/png": "[encoded data removed]",
      "text/plain": [
       "<Figure size 432x288 with 1 Axes>"
      ]
     },
     "metadata": {
      "needs_background": "light"
     },
     "output_type": "display_data"
    }
   ],
   "source": [
    "plt.figure()\n",
    "plt.plot(makeFreq(len(symsFFT), fs)[10000:10000+100], 20*np.log10(np.abs(symsFFT))[10000:10000+100])\n",
    "plt.plot(makeFreq(len(burstyFFT), fs)[1000:1000+10], 20*np.log10(np.abs(burstyFFT))[1000:1000+10], 'rx')"
   ]
  },
  {
   "cell_type": "code",
   "execution_count": 5,
   "id": "hourly-activation",
   "metadata": {},
   "outputs": [],
   "source": [
    "npt.assert_allclose(symsFFT[::reps], burstyFFT, rtol=1e-4)"
   ]
  },
  {
   "cell_type": "code",
   "execution_count": 6,
   "id": "furnished-andrew",
   "metadata": {},
   "outputs": [
    {
     "name": "stdout",
     "output_type": "stream",
     "text": [
      "(13.508924072055791+130.81850532859522j)\n",
      "(13.50892407205593+130.818505328595j)\n"
     ]
    }
   ],
   "source": [
    "ii = np.argmax(np.abs(symsFFT[::reps] - burstyFFT))\n",
    "print(symsFFT[::reps][ii])\n",
    "print(burstyFFT[ii])"
   ]
  },
  {
   "cell_type": "code",
   "execution_count": null,
   "id": "curious-coordinator",
   "metadata": {},
   "outputs": [],
   "source": []
  }
 ],
 "metadata": {
  "kernelspec": {
   "display_name": "Python 3",
   "language": "python",
   "name": "python3"
  },
  "language_info": {
   "codemirror_mode": {
    "name": "ipython",
    "version": 3
   },
   "file_extension": ".py",
   "mimetype": "text/x-python",
   "name": "python",
   "nbconvert_exporter": "python",
   "pygments_lexer": "ipython3",
   "version": "3.9.2"
  }
 },
 "nbformat": 4,
 "nbformat_minor": 5
}
