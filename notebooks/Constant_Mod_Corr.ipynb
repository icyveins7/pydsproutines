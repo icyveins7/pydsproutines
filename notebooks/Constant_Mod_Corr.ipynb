{
 "cells": [
  {
   "cell_type": "markdown",
   "id": "3e039f4c",
   "metadata": {},
   "source": [
    "# Constant Modulus Correlations\n",
    "\n",
    "In the event that cross-correlations are performed with a known, constant-modulus signal, it is possible to compute the $QF^2$ directly from the phase of the known signal (here denoted $x$), before combining the result. This method should, in theory, lessen the computational load due to working in the real-domain for the earlier computations.\n",
    "\n",
    "## Dot Product Example\n",
    "\n",
    "We break the cross-correlation into a sliding dot-product and consider the following scenario of known constant-modulus signal $x$, received vector $y$ and seek to calculate the $QF^2, q^2$.\n",
    "\n",
    "\\begin{equation}\n",
    "y_n = A_n e^{i \\theta_n}\n",
    "\\end{equation}\n",
    "\\begin{equation}\n",
    "x_n = e^{i \\phi_n}\n",
    "\\end{equation}\n",
    "\n",
    "\\begin{align}\n",
    "q^2 &= \\sum_n y_n x_n^{\\star} \\\\\n",
    "&= \\sum_n A_n e^{i (\\theta_n - \\phi_n)} \\\\\n",
    "\\end{align}\n",
    "\n",
    "In the first line, the typical dot-product is performed by a complex-multiply of $N$ elements. This is optimistically computed via real-multiplies of $3*N$ elements (complex multiply = 3 real multiplies).\n",
    "\n",
    "In the second line, the dot-product consists of a subtraction (of the phases), followed by a exponentiation into complex form. The amplitudes of the received vector, $A_n$, can be ignored for now(?).\n",
    "\n",
    "It is likely that $x$ is generated simply via its phase (this is true for continuous phase modulation schemes), and in that case one should have the phase as a 1-d real array.\n",
    "\n",
    "The received vector is usually contained in memory as IQ data (complex array of interleaved I and Q components). This vector must have its phase extracted (an expensive arctan operation, but this only needs to be done once, and cross-correlation would involve the same element N times, amortizing the cost).\n",
    "\n"
   ]
  },
  {
   "cell_type": "markdown",
   "id": "3e058900",
   "metadata": {},
   "source": [
    "# LOOKING AT THIS, SEEMS IMPLAUSIBLE TO BE FASTER\n",
    "\n",
    "Early tests also show that the cost of the exponentiation is too high to be useful?"
   ]
  }
 ],
 "metadata": {
  "kernelspec": {
   "display_name": "Python 3 (ipykernel)",
   "language": "python",
   "name": "python3"
  },
  "language_info": {
   "codemirror_mode": {
    "name": "ipython",
    "version": 3
   },
   "file_extension": ".py",
   "mimetype": "text/x-python",
   "name": "python",
   "nbconvert_exporter": "python",
   "pygments_lexer": "ipython3",
   "version": "3.11.1"
  }
 },
 "nbformat": 4,
 "nbformat_minor": 5
}
