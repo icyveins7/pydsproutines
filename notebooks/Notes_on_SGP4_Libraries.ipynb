{
 "cells": [
  {
   "cell_type": "markdown",
   "metadata": {},
   "source": [
    "# Notes on SGP4 Libraries and Comparisons of their Propagators\n",
    "\n",
    "# Some History\n",
    "SGP4 is the propagator used strictly with the publicly available TLEs. The original code by the author is provided primarily at the website [here](https://celestrak.org/software/vallado-sw.php), but I have collated a copy in my repository [here](https://github.com/icyveins7/sgp4-download-celestrak) along with some notes about the two different versions available on the website. To make things clear, I will reference the versions of the code I reupload onto my repository: current test is at commit 09142b1.\n",
    "\n",
    "This current repository, ```pydsproutines```, also contains some code from the python libraries ```sgp4``` (which is a simple wrapper around the SGP4 library) and ```skyfield``` (which has more functions, and itself wraps the python ```sgp4``` library)."
   ]
  },
  {
   "cell_type": "markdown",
   "metadata": {},
   "source": [
    "# Comparisons\n",
    "We would like to compare the results of the same propagation in the above libraries, bearing in mind that the calling structure is different; if the inputs required are different, we would like to determine what is required to make the results the same, if any."
   ]
  },
  {
   "cell_type": "markdown",
   "metadata": {},
   "source": [
    "# Coordinate Systems\n",
    "Before we start, it is important to understand the different coordinate systems at play here. The TLEs and the SGP4 propagator are closely intertwined, and both are expected to operate _solely_ in what is known as the __TEME (True Equator Mean Equinox)__ coordinate system.\n",
    "\n",
    "However, for most intents and purposes, we require the __ITRF (International Terrestrial Reference Frame)__, which is a specification of an __ECEF (Earth-Centered Earth-Fixed)__ frame. This conversion from TEME to ITRF is _non-trivial_, and is the part which requires a lot of external input i.e. not just the TLE, but other things known as Earth Orientation Parameters are required.\n",
    "\n",
    "See [this reference](https://apps.dtic.mil/sti/pdfs/ADA637370.pdf) for a great discussion on the different coordinate frames."
   ]
  },
  {
   "cell_type": "markdown",
   "metadata": {},
   "source": [
    "## Test 1: Compare pure SGP4 propagation in the TEME frame.\n",
    "1. Python + sgp4\n",
    "2. Python + skyfield\n",
    "3. C++ original function\n",
    "\n",
    "We assume the 'wgs84' constants in all cases where applicable. We will use the following TLE:"
   ]
  },
  {
   "cell_type": "code",
   "execution_count": 1,
   "metadata": {},
   "outputs": [
    {
     "name": "stdout",
     "output_type": "stream",
     "text": [
      "(39641.16403399667, -13833.063014725132, -1428.375749762684) (1.0143747638499885, 2.8263194734421773, 0.7116770873234988)\n",
      "[ 39641.17161091 -13833.0751021   -1428.37827126] [1.01437532 2.82632002 0.71167724]\n",
      "Error = 0.014487\n"
     ]
    }
   ],
   "source": [
    "line1 = \"1 19548U 88091B   23110.52047465 -.00000310  00000+0  00000+0 0  9996\"\n",
    "line2 = \"2 19548  13.4884 348.9767 0037807 339.0721  18.7948  1.00270407113813\"\n",
    "\n",
    "import numpy as np\n",
    "\n",
    "# Parameters of propagation\n",
    "year = 2023\n",
    "mon = 4\n",
    "day = 21\n",
    "hr = 12\n",
    "minute = 0\n",
    "sec = 0\n",
    "\n",
    "# Test 1.1, Python + sgp4\n",
    "from sgp4.api import Satrec, jday\n",
    "from sgp4.api import WGS72, WGS84\n",
    "\n",
    "sat = Satrec.twoline2rv(line1, line2, WGS84)\n",
    "jd, fr = jday(year, mon, day, hr, minute, sec)\n",
    "e, r, v = sat.sgp4(jd, fr)\n",
    "print(r, v)\n",
    "\n",
    "# Test 1.2 Python + skyfield\n",
    "from skyfield.api import EarthSatellite, load\n",
    "from skyfield.sgp4lib import TEME\n",
    "\n",
    "sfsat = EarthSatellite(line1, line2)\n",
    "ts = load.timescale()\n",
    "t = ts.utc(year, mon, day, hr, minute, sec)\n",
    "pv = sfsat.at(t)\n",
    "pos, vel = pv.frame_xyz_and_velocity(TEME)\n",
    "print(pos.km, vel.km_per_s)\n",
    "\n",
    "print(\"Error = %g\" % (np.linalg.norm(np.array(r) - np.array(pos.km))))"
   ]
  },
  {
   "cell_type": "markdown",
   "metadata": {},
   "source": [
    "Clearly, there is a slight difference here, on the order of about 10m (0.01km). This is more than likely to be good enough, but why is it different if ```skyfield``` is only wrapping ```sgp4```? It turns out there's a simple explanation for this, which is pretty obvious looking at the code; ```skyfield``` defaults to using WGS72, and doesn't have an option to specify this in ```EarthSatellite()``` directly.\n",
    "\n",
    "Note that it is _not at all obvious_ that the wrapper function ```Satrec.twoline2rv()``` takes in an optional parameter for the gravitational constant. It is apparent if you have looked at the original C++ code, which has an argument ```gravconsttype whichconst```, but otherwise since the python ```sgp4``` library wraps it and exposes an interface without good docstrings, the only documentation that shows this is at the PyPi site [here](https://pypi.org/project/sgp4/), scrolling down to the 'Gravity' section. Notably, it does claim that using WGS84 at this point in the propagator is likely to perform worse when compared to real measurements of satellite positions, due to the TLEs being generated with WGS72 models in mind."
   ]
  },
  {
   "cell_type": "code",
   "execution_count": 2,
   "metadata": {},
   "outputs": [
    {
     "name": "stdout",
     "output_type": "stream",
     "text": [
      "(39641.171610908845, -13833.075102099956, -1428.3782712556995) (1.0143753225229308, 2.826320024639999, 0.7116772422656449)\n",
      "[ 39641.17161091 -13833.0751021   -1428.37827126] [1.01437532 2.82632002 0.71167724]\n",
      "Error = 2.12967e-10\n"
     ]
    }
   ],
   "source": [
    "# Test 1.1, Python + sgp4\n",
    "from sgp4.api import Satrec, jday\n",
    "from sgp4.api import WGS72, WGS84\n",
    "\n",
    "sat = Satrec.twoline2rv(line1, line2, WGS72)\n",
    "jd, fr = jday(year, mon, day, hr, minute, sec)\n",
    "e, r, v = sat.sgp4(jd, fr)\n",
    "print(r, v)\n",
    "\n",
    "# Test 1.2 Python + skyfield\n",
    "from skyfield.api import EarthSatellite, load\n",
    "from skyfield.sgp4lib import TEME\n",
    "\n",
    "sfsat = EarthSatellite(line1, line2)\n",
    "ts = load.timescale()\n",
    "t = ts.utc(year, mon, day, hr, minute, sec)\n",
    "pv = sfsat.at(t)\n",
    "pos, vel = pv.frame_xyz_and_velocity(TEME)\n",
    "print(pos.km, vel.km_per_s)\n",
    "\n",
    "print(\"Error = %g\" % (np.linalg.norm(np.array(r) - np.array(pos.km))))"
   ]
  },
  {
   "cell_type": "code",
   "execution_count": 3,
   "metadata": {},
   "outputs": [
    {
     "name": "stdout",
     "output_type": "stream",
     "text": [
      "Error = 1.01447e-09\n"
     ]
    }
   ],
   "source": [
    "# Test 1.3 C++ original library\n",
    "# Note that the original SGP4 twoline2rv function requires many more inputs, of which most are unnecessary.\n",
    "# A good way to determine what to use is to look at what the python-sgp4 library did:\n",
    "# SGP4Funcs::twoline2rv(line1, line2, ' ', ' ', 'i', whichconst,\n",
    "#                          dummy, dummy, dummy, self->satrec);\n",
    "# We see that the first two char options are unnecessary, and hence any dummy char can be placed. 'i' is to use the improved mode vs the older mode.\n",
    "# The following 3 dummy variables are unused as we perform the propagation ourselves later on.\n",
    "# Notably, the original code's propagator, sgp4(), only accepts time since epoch as the input.\n",
    "# This means we have to find the difference between epoch time and the target time; this can be done by referencing the\n",
    "# struct's 'jdsatepoch' & 'jdsatepochF' variables.\n",
    "# Again, we can look at what the python-sgp4 library did:\n",
    "# double tsince = (jd - satrec.jdsatepoch) * 1440.0\n",
    "#                  + (fr - satrec.jdsatepochF) * 1440.0;\n",
    "#\n",
    "#\n",
    "# Output (copied from my externally compiled and tested, you're gonna have to trust i did the above):\n",
    "cpp_x = np.array([39641.171610909, -13833.075102099, -1428.378271256])\n",
    "cpp_v = np.array([1.014375323, 2.826320025, 0.711677242])\n",
    "\n",
    "print(\"Error = %g\" % (np.linalg.norm(cpp_x - np.array(r))))\n"
   ]
  },
  {
   "cell_type": "markdown",
   "metadata": {},
   "source": [
    "Alright, so far so good! Now we move on to the next task..\n",
    "\n",
    "## Test 2: Converting TEME to ITRF\n",
    "1. Python + skyfield\n",
    "2. C++ original function\n",
    "\n",
    "Note that the python ```sgp4``` library does not contain the coordinate transformation functions; this is only provided in ```skyfield```. This accurately reflects the original code, as the ```sgp4()``` function in C++ is contained in a separate header and source file (and even in a separate folder) from the coordinate transformations, found in the ```AstroLib``` folder.\n",
    "\n",
    "Examining the C++ function ```AstroLib::teme_ecef``` shows that there are multiple extra inputs we require: \n"
   ]
  },
  {
   "cell_type": "code",
   "execution_count": 5,
   "metadata": {},
   "outputs": [
    {
     "name": "stdout",
     "output_type": "stream",
     "text": [
      "[ 27797.22007278 -31465.7116508   -1428.37827126] [-0.02657353 -0.05888948  0.71167724]\n"
     ]
    }
   ],
   "source": [
    "# Test 2.1, Python + skyfield\n",
    "from skyfield.framelib import itrs\n",
    "itrf_pos, itrf_vel = pv.frame_xyz_and_velocity(itrs)\n",
    "print(itrf_pos.km, itrf_vel.km_per_s)"
   ]
  }
 ],
 "metadata": {
  "kernelspec": {
   "display_name": "Python 3 (ipykernel)",
   "language": "python",
   "name": "python3"
  },
  "language_info": {
   "codemirror_mode": {
    "name": "ipython",
    "version": 3
   },
   "file_extension": ".py",
   "mimetype": "text/x-python",
   "name": "python",
   "nbconvert_exporter": "python",
   "pygments_lexer": "ipython3",
   "version": "3.11.1"
  }
 },
 "nbformat": 4,
 "nbformat_minor": 2
}
