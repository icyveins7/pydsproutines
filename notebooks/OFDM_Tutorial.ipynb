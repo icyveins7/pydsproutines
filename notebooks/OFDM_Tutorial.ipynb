{
 "cells": [
  {
   "cell_type": "markdown",
   "metadata": {},
   "source": [
    "# OFDM Tutorial & Exploration\n",
    "\n",
    "We consider first the non-cyclic-prefix OFDM symbol.\n",
    "\n",
    "A single OFDM symbol is defined by $N$ sub-carriers, each with possibly different modulations. The different sub-carrier modulated symbols $s_k$ are then combined to give a _single_ final OFDM symbol via an IFFT:\n",
    "\n",
    "$$\n",
    "x[n] = \\sum^{N-1}_{k=0} s_k e^{i 2 \\pi k n / N}, \\, n = {0, 1, ..., N-1}\n",
    "$$"
   ]
  },
  {
   "cell_type": "markdown",
   "metadata": {},
   "source": [
    "So far so good. Let's consider what we have to do at the receiver to demodulate this.\n",
    "\n",
    "The obvious thing is to do the reverse, i.e. an FFT (where we have ignored the normalization):\n",
    "\n",
    "\\begin{align}\n",
    "y[m] &= \\sum^{N-1}_{n=0} x[n] e^{-i 2 \\pi mn / N} \\\\\n",
    "&= \\sum^{N-1}_{n=0} \\sum^{N-1}_{k=0} s_k e^{i 2 \\pi k n / N} e^{-i 2 \\pi m n / N}\n",
    "\\end{align}\n",
    "\n",
    "Via orthogonality of Fourier components, we assume and perform the standard delta function substitution:\n",
    "\n",
    "$$\n",
    "y[m] = \\sum^{N-1}_{k=0} s_k \\delta(k = m) = s_m\n",
    "$$"
   ]
  },
  {
   "cell_type": "markdown",
   "metadata": {},
   "source": [
    "## Effects of Frequency Offsets\n",
    "\n",
    "What happens when the OFDM symbol is not tuned to the correct frequency? Here we assume the received symbol is now given by\n",
    "\n",
    "$$\n",
    "x[n] \\rightarrow x[n] e^{i 2 \\pi f n}, \\,\\, f \\in [0, 1)\n",
    "$$\n",
    "\n",
    "where we have defined a _normalized_ frequency offset $f$.\n",
    "\n",
    "The above analysis then no longer reduces to a delta function as the summation over $n$ now depends on the tone as well.\n",
    "\n",
    "$$\n",
    "y[m] = \\sum^{N-1}_{n=0} \\sum^{N-1}_{k=0} s_k e^{i 2 \\pi k n / N} e^{-i 2 \\pi m n / N} e^{i 2 \\pi f n}\n",
    "$$\n",
    "\n",
    "What this does in practice is to cause the initial subcarrier modulated symbols to be 'de-mixed' improperly, usually resulting in pure noise-looking constellation plots."
   ]
  },
  {
   "cell_type": "markdown",
   "metadata": {},
   "source": []
  }
 ],
 "metadata": {
  "language_info": {
   "name": "python"
  }
 },
 "nbformat": 4,
 "nbformat_minor": 2
}
